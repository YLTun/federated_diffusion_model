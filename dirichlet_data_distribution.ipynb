{
 "cells": [
  {
   "cell_type": "code",
   "execution_count": 2,
   "metadata": {
    "ExecuteTime": {
     "end_time": "2023-05-11T06:57:27.072166Z",
     "start_time": "2023-05-11T06:57:26.813079Z"
    }
   },
   "outputs": [],
   "source": [
    "import os\n",
    "import glob\n",
    "import shutil\n",
    "import numpy as np\n",
    "import random\n",
    "import matplotlib.pyplot as plt"
   ]
  },
  {
   "cell_type": "code",
   "execution_count": 3,
   "metadata": {
    "ExecuteTime": {
     "end_time": "2023-05-11T06:57:27.076281Z",
     "start_time": "2023-05-11T06:57:27.073738Z"
    }
   },
   "outputs": [],
   "source": [
    "import sys\n",
    "sys.path.insert(1, os.path.join(sys.path[0], '../'))"
   ]
  },
  {
   "cell_type": "code",
   "execution_count": 4,
   "metadata": {
    "ExecuteTime": {
     "end_time": "2023-05-11T06:57:27.756427Z",
     "start_time": "2023-05-11T06:57:27.124093Z"
    }
   },
   "outputs": [],
   "source": [
    "import utils"
   ]
  },
  {
   "cell_type": "code",
   "execution_count": 5,
   "metadata": {
    "ExecuteTime": {
     "end_time": "2023-05-11T06:57:27.760163Z",
     "start_time": "2023-05-11T06:57:27.758021Z"
    }
   },
   "outputs": [],
   "source": [
    "# Define dataset.\n",
    "# dataset_name = 'cifar_10'\n",
    "# dataset_name = 'svhn'\n",
    "# dataset_name = 'fashion_mnist'\n",
    "# dataset_dir = '../datasets/' + dataset_name\n",
    "# train_dir = os.path.join(dataset_dir, 'train')\n",
    "\n",
    "\n",
    "dataset_name = 'sars_cov_2_ct_scan'\n",
    "dataset_dir = '../datasets/' + dataset_name\n",
    "train_dir = os.path.join(dataset_dir)"
   ]
  },
  {
   "cell_type": "code",
   "execution_count": 6,
   "metadata": {
    "ExecuteTime": {
     "end_time": "2023-05-11T06:57:29.778024Z",
     "start_time": "2023-05-11T06:57:29.773871Z"
    }
   },
   "outputs": [
    {
     "name": "stdout",
     "output_type": "stream",
     "text": [
      "['covid', 'non_covid']\n"
     ]
    }
   ],
   "source": [
    "class_labels = os.listdir(train_dir)\n",
    "class_labels.sort()\n",
    "print(class_labels)"
   ]
  },
  {
   "cell_type": "code",
   "execution_count": 7,
   "metadata": {
    "ExecuteTime": {
     "end_time": "2023-05-11T06:57:34.361317Z",
     "start_time": "2023-05-11T06:57:34.341851Z"
    }
   },
   "outputs": [
    {
     "name": "stdout",
     "output_type": "stream",
     "text": [
      "covid : 1252\n",
      "non_covid : 1229\n"
     ]
    }
   ],
   "source": [
    "# Read image list into a dictionary for each class.\n",
    "train_img_dict = {}\n",
    "for class_label in class_labels:\n",
    "    class_folder = os.path.join(train_dir, class_label)\n",
    "    img_list = glob.glob(os.path.join(class_folder, '*.JPG')) + glob.glob(os.path.join(class_folder, '*.jpg')) + glob.glob(os.path.join(class_folder, '*.png'))           \n",
    "    train_img_dict[class_label] = img_list\n",
    "    print(class_label, ':', len(img_list))"
   ]
  },
  {
   "cell_type": "code",
   "execution_count": 8,
   "metadata": {
    "ExecuteTime": {
     "end_time": "2023-05-11T06:57:37.952949Z",
     "start_time": "2023-05-11T06:57:37.949245Z"
    }
   },
   "outputs": [],
   "source": [
    "def get_dirichlet_proportions(beta, num_clients, num_total_samples):\n",
    "    rng = np.random.default_rng()\n",
    "    proportions = rng.dirichlet(np.repeat(beta, num_clients))\n",
    "    proportions = proportions / proportions.sum()\n",
    "    proportions = np.round(proportions * num_total_samples).astype(int)[:-1]\n",
    "    proportions = np.append(proportions, max(0, num_total_samples - sum(proportions)))           # For the last client.\n",
    "    return proportions"
   ]
  },
  {
   "cell_type": "code",
   "execution_count": 9,
   "metadata": {
    "ExecuteTime": {
     "end_time": "2023-05-11T06:57:44.895132Z",
     "start_time": "2023-05-11T06:57:44.892494Z"
    }
   },
   "outputs": [],
   "source": [
    "# Define distribution settings.\n",
    "num_clients = 10            # [10, 30, 50]\n",
    "beta = 0.5 # [0.1, 0.5, 5]\n",
    "\n",
    "client_data_dir = os.path.join('./client_data/', dataset_name + '_b_{}_c_{}'.format(beta, num_clients))"
   ]
  },
  {
   "cell_type": "code",
   "execution_count": 10,
   "metadata": {
    "ExecuteTime": {
     "end_time": "2023-05-11T06:57:48.940159Z",
     "start_time": "2023-05-11T06:57:48.637086Z"
    }
   },
   "outputs": [
    {
     "name": "stdout",
     "output_type": "stream",
     "text": [
      "       covid : [ 20 140 441  66  19   1  14 183 339  29]\n",
      "   non_covid : [187 105   4  10  14 289  24  24 572   0]\n"
     ]
    }
   ],
   "source": [
    "data_notes = {}\n",
    "\n",
    "for class_label in class_labels:\n",
    "\n",
    "    sample_list = train_img_dict[class_label]\n",
    "    random.shuffle(sample_list)\n",
    "    num_total_samples = len(sample_list)\n",
    "    \n",
    "    proportions = get_dirichlet_proportions(beta, num_clients, num_total_samples)\n",
    "    print('{:>12} : {}'.format(class_label, proportions))\n",
    "    \n",
    "    start_idx = 0\n",
    "    for client_idx in range(num_clients):\n",
    "        end_idx = start_idx + proportions[client_idx]\n",
    "        dest_dir = os.path.join(client_data_dir, str(client_idx), class_label)\n",
    "        os.makedirs(dest_dir)\n",
    "        for img in sample_list[start_idx:end_idx]:\n",
    "            shutil.copy(img, dest_dir)\n",
    "        start_idx = end_idx\n",
    "        data_notes.setdefault(client_idx, {})\n",
    "        data_notes[client_idx][class_label] = proportions[client_idx]"
   ]
  },
  {
   "cell_type": "code",
   "execution_count": 11,
   "metadata": {
    "ExecuteTime": {
     "end_time": "2023-05-11T06:57:54.424084Z",
     "start_time": "2023-05-11T06:57:54.420404Z"
    }
   },
   "outputs": [],
   "source": [
    "for client_idx in range(num_clients):\n",
    "    note_file = os.path.join(os.path.join(client_data_dir, str(client_idx), 'notes.txt'))\n",
    "    txt = ''\n",
    "    for class_label, num_samples in data_notes[client_idx].items():\n",
    "        buff = '{:15} : {}\\n'.format(class_label, num_samples)\n",
    "        txt += buff\n",
    "    utils.save_notes(note_file, txt)"
   ]
  },
  {
   "cell_type": "code",
   "execution_count": 12,
   "metadata": {
    "ExecuteTime": {
     "end_time": "2023-05-11T06:57:56.723849Z",
     "start_time": "2023-05-11T06:57:56.717451Z"
    }
   },
   "outputs": [],
   "source": [
    "mat = np.zeros((num_clients, len(class_labels)))\n",
    "\n",
    "x, y, n = [], [], []\n",
    "for idx in range(num_clients):\n",
    "    client_dir = os.path.join(client_data_dir, str(idx))\n",
    "    for class_idx, label in enumerate(class_labels):\n",
    "        class_dir = os.path.join(client_dir, label)\n",
    "        if os.path.exists(class_dir):\n",
    "            n.append((1*len(os.listdir(class_dir)))**1)\n",
    "            mat[idx][class_idx] = len(os.listdir(class_dir))\n",
    "        else:\n",
    "            n.append(0)\n",
    "            mat[idx][class_idx] = 0\n",
    "        y.append(label)\n",
    "        x.append(idx)"
   ]
  },
  {
   "cell_type": "code",
   "execution_count": 13,
   "metadata": {
    "ExecuteTime": {
     "end_time": "2023-05-11T06:57:58.926460Z",
     "start_time": "2023-05-11T06:57:58.539813Z"
    }
   },
   "outputs": [
    {
     "data": {
      "image/png": "[encoded data removed]",
      "text/plain": [
       "<Figure size 432x288 with 2 Axes>"
      ]
     },
     "metadata": {
      "needs_background": "light"
     },
     "output_type": "display_data"
    }
   ],
   "source": [
    "fig = plt.figure(figsize=(6,4))\n",
    "ax = fig.add_subplot()\n",
    "\n",
    "im = ax.pcolormesh(np.transpose(mat), edgecolors='k', linewidth=1, cmap=plt.get_cmap('Blues'))\n",
    "cbar = fig.colorbar(im, ax=ax)\n",
    "cbar.ax.tick_params(labelsize=12)\n",
    "\n",
    "ax.set_xlabel('Client $i$', fontsize=14)\n",
    "ax.set_ylabel('Classes', fontsize=14)\n",
    "\n",
    "yticks = class_labels\n",
    "\n",
    "ax.set_yticks(range(len(yticks)))\n",
    "ax.set_yticklabels(yticks)  \n",
    "\n",
    "ax.set_xticks(range(num_clients))\n",
    "\n",
    "ax.yaxis.set_tick_params(labelsize=12)\n",
    "ax.xaxis.set_tick_params(labelsize=12)\n",
    "plt.savefig(os.path.join(client_data_dir, 'client_data_amount.png'), dpi=300, bbox_inches='tight')\n",
    "plt.show()"
   ]
  },
  {
   "cell_type": "code",
   "execution_count": null,
   "metadata": {},
   "outputs": [],
   "source": []
  }
 ],
 "metadata": {
  "kernelspec": {
   "display_name": "Python 3 (ipykernel)",
   "language": "python",
   "name": "python3"
  },
  "language_info": {
   "codemirror_mode": {
    "name": "ipython",
    "version": 3
   },
   "file_extension": ".py",
   "mimetype": "text/x-python",
   "name": "python",
   "nbconvert_exporter": "python",
   "pygments_lexer": "ipython3",
   "version": "3.9.0"
  }
 },
 "nbformat": 4,
 "nbformat_minor": 4
}
