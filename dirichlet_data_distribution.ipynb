{
 "cells": [
  {
   "cell_type": "code",
   "execution_count": 50,
   "metadata": {
    "ExecuteTime": {
     "end_time": "2022-08-19T10:25:20.219709Z",
     "start_time": "2022-08-19T10:25:20.216468Z"
    }
   },
   "outputs": [],
   "source": [
    "import os\n",
    "import glob\n",
    "import shutil\n",
    "import numpy as np\n",
    "import random\n",
    "import matplotlib.pyplot as plt"
   ]
  },
  {
   "cell_type": "code",
   "execution_count": 51,
   "metadata": {
    "ExecuteTime": {
     "end_time": "2022-08-19T10:25:20.369696Z",
     "start_time": "2022-08-19T10:25:20.367097Z"
    }
   },
   "outputs": [],
   "source": [
    "import sys\n",
    "sys.path.insert(1, os.path.join(sys.path[0], '../'))"
   ]
  },
  {
   "cell_type": "code",
   "execution_count": 52,
   "metadata": {
    "ExecuteTime": {
     "end_time": "2022-08-19T10:25:20.513031Z",
     "start_time": "2022-08-19T10:25:20.510306Z"
    }
   },
   "outputs": [],
   "source": [
    "import utils"
   ]
  },
  {
   "cell_type": "code",
   "execution_count": 53,
   "metadata": {
    "ExecuteTime": {
     "end_time": "2022-08-19T10:25:20.675137Z",
     "start_time": "2022-08-19T10:25:20.670856Z"
    }
   },
   "outputs": [
    {
     "name": "stdout",
     "output_type": "stream",
     "text": [
      "['Ankle boot', 'Bag', 'Coat', 'Dress', 'Pullover', 'Sandal', 'Shirt', 'Sneaker', 'T-shirt top', 'Trouser']\n"
     ]
    }
   ],
   "source": [
    "# Define dataset.\n",
    "dataset_name = 'fashion_mnist'\n",
    "# dataset_name = 'cifar_10'\n",
    "# dataset_name = 'svhn'\n",
    "\n",
    "dataset_dir = '../datasets/' + dataset_name\n",
    "train_dir = os.path.join(dataset_dir, 'train')\n",
    "class_labels = os.listdir(train_dir)\n",
    "class_labels.sort()\n",
    "print(class_labels)"
   ]
  },
  {
   "cell_type": "code",
   "execution_count": 54,
   "metadata": {
    "ExecuteTime": {
     "end_time": "2022-08-19T10:25:21.075151Z",
     "start_time": "2022-08-19T10:25:20.842985Z"
    }
   },
   "outputs": [
    {
     "name": "stdout",
     "output_type": "stream",
     "text": [
      "Ankle boot : 6000\n",
      "Bag : 6000\n",
      "Coat : 6000\n",
      "Dress : 6000\n",
      "Pullover : 6000\n",
      "Sandal : 6000\n",
      "Shirt : 6000\n",
      "Sneaker : 6000\n",
      "T-shirt top : 6000\n",
      "Trouser : 6000\n"
     ]
    }
   ],
   "source": [
    "# Read image list into a dictionary for each class.\n",
    "train_img_dict = {}\n",
    "for class_label in class_labels:\n",
    "    class_folder = os.path.join(train_dir, class_label)\n",
    "    img_list = glob.glob(os.path.join(class_folder, '*.JPG')) + glob.glob(os.path.join(class_folder, '*.jpg')) + glob.glob(os.path.join(class_folder, '*.png'))           \n",
    "    train_img_dict[class_label] = img_list\n",
    "    print(class_label, ':', len(img_list))"
   ]
  },
  {
   "cell_type": "code",
   "execution_count": 55,
   "metadata": {
    "ExecuteTime": {
     "end_time": "2022-08-19T10:25:21.080352Z",
     "start_time": "2022-08-19T10:25:21.076753Z"
    }
   },
   "outputs": [],
   "source": [
    "def get_dirichlet_proportions(beta, num_clients, num_total_samples):\n",
    "    rng = np.random.default_rng()\n",
    "    proportions = rng.dirichlet(np.repeat(beta, num_clients))\n",
    "    proportions = proportions / proportions.sum()\n",
    "    proportions = np.round(proportions * num_total_samples).astype(int)[:-1]\n",
    "    proportions = np.append(proportions, max(0, num_total_samples - sum(proportions)))           # For the last client.\n",
    "    return proportions"
   ]
  },
  {
   "cell_type": "code",
   "execution_count": 56,
   "metadata": {
    "ExecuteTime": {
     "end_time": "2022-08-19T10:25:21.201687Z",
     "start_time": "2022-08-19T10:25:21.198787Z"
    }
   },
   "outputs": [],
   "source": [
    "# Define distribution settings.\n",
    "num_clients = 12\n",
    "beta = 0.1 # [0.1, 0.5, 5]\n",
    "\n",
    "client_data_dir = os.path.join('./client_data/', dataset_name + '_beta_{}'.format(beta))"
   ]
  },
  {
   "cell_type": "code",
   "execution_count": 57,
   "metadata": {
    "ExecuteTime": {
     "end_time": "2022-08-19T10:25:24.898196Z",
     "start_time": "2022-08-19T10:25:21.601274Z"
    }
   },
   "outputs": [
    {
     "name": "stdout",
     "output_type": "stream",
     "text": [
      "  Ankle boot : [ 215 1221 2977    0    0   15    0 1572    0    0    0    0]\n",
      "         Bag : [   0   47  583    0    0    0  896    0    0    0  287 4187]\n",
      "        Coat : [   1    3    0  675    0    0 4694   45    0  366  160   56]\n",
      "       Dress : [   0    0    4    0    0    0 5254  231    0   86    0  425]\n",
      "    Pullover : [   0    0    0    0  556  799   21 1153  532 2913   26    0]\n",
      "      Sandal : [  15   24   24  599   91    0   10    0   11 5225    0    1]\n",
      "       Shirt : [   2  939    0 1877    1 3139    0    1   29    0   11    1]\n",
      "     Sneaker : [4151    0 1240    0   16   18    9    0    1   78  221  266]\n",
      " T-shirt top : [   0  355 1106    0    0 4515    0    6    0   16    0    2]\n",
      "     Trouser : [ 164  848 1342 1065    6    0    1 1850  382   13  167  162]\n"
     ]
    }
   ],
   "source": [
    "data_notes = {}\n",
    "\n",
    "for class_label in class_labels:\n",
    "\n",
    "    sample_list = train_img_dict[class_label]\n",
    "    random.shuffle(sample_list)\n",
    "    num_total_samples = len(sample_list)\n",
    "    \n",
    "    proportions = get_dirichlet_proportions(beta, num_clients, num_total_samples)\n",
    "    print('{:>12} : {}'.format(class_label, proportions))\n",
    "    \n",
    "    start_idx = 0\n",
    "    for client_idx in range(num_clients):\n",
    "        end_idx = start_idx + proportions[client_idx]\n",
    "        dest_dir = os.path.join(client_data_dir, str(client_idx), class_label)\n",
    "        os.makedirs(dest_dir)\n",
    "        for img in sample_list[start_idx:end_idx]:\n",
    "            shutil.copy(img, dest_dir)\n",
    "        start_idx = end_idx\n",
    "        data_notes.setdefault(client_idx, {})\n",
    "        data_notes[client_idx][class_label] = proportions[client_idx]"
   ]
  },
  {
   "cell_type": "code",
   "execution_count": 58,
   "metadata": {
    "ExecuteTime": {
     "end_time": "2022-08-19T10:25:24.906253Z",
     "start_time": "2022-08-19T10:25:24.900333Z"
    }
   },
   "outputs": [],
   "source": [
    "for client_idx in range(num_clients):\n",
    "    note_file = os.path.join(os.path.join(client_data_dir, str(client_idx), 'notes.txt'))\n",
    "    txt = ''\n",
    "    for class_label, num_samples in data_notes[client_idx].items():\n",
    "        buff = '{:15} : {}\\n'.format(class_label, num_samples)\n",
    "        txt += buff\n",
    "    utils.save_notes(note_file, txt)"
   ]
  },
  {
   "cell_type": "code",
   "execution_count": 59,
   "metadata": {
    "ExecuteTime": {
     "end_time": "2022-08-19T10:25:24.981129Z",
     "start_time": "2022-08-19T10:25:24.907951Z"
    }
   },
   "outputs": [],
   "source": [
    "mat = np.zeros((num_clients, len(class_labels)))\n",
    "\n",
    "x, y, n = [], [], []\n",
    "for idx in range(num_clients):\n",
    "    client_dir = os.path.join(client_data_dir, str(idx))\n",
    "    for class_idx, label in enumerate(class_labels):\n",
    "        class_dir = os.path.join(client_dir, label)\n",
    "        if os.path.exists(class_dir):\n",
    "            n.append((1*len(os.listdir(class_dir)))**1)\n",
    "            mat[idx][class_idx] = len(os.listdir(class_dir))\n",
    "        else:\n",
    "            n.append(0)\n",
    "            mat[idx][class_idx] = 0\n",
    "        y.append(label)\n",
    "        x.append(idx)"
   ]
  },
  {
   "cell_type": "code",
   "execution_count": 60,
   "metadata": {
    "ExecuteTime": {
     "end_time": "2022-08-19T10:25:25.313179Z",
     "start_time": "2022-08-19T10:25:24.982448Z"
    }
   },
   "outputs": [
    {
     "data": {
      "image/png": "[encoded data removed]",
      "text/plain": [
       "<Figure size 432x288 with 2 Axes>"
      ]
     },
     "metadata": {
      "needs_background": "light"
     },
     "output_type": "display_data"
    }
   ],
   "source": [
    "fig = plt.figure(figsize=(6,4))\n",
    "ax = fig.add_subplot()\n",
    "\n",
    "im = ax.pcolormesh(np.transpose(mat), edgecolors='k', linewidth=1, cmap=plt.get_cmap('Blues'))\n",
    "cbar = fig.colorbar(im, ax=ax)\n",
    "cbar.ax.tick_params(labelsize=12)\n",
    "\n",
    "ax.set_xlabel('Client $i$', fontsize=14)\n",
    "ax.set_ylabel('Classes', fontsize=14)\n",
    "\n",
    "yticks = class_labels\n",
    "\n",
    "ax.set_yticks(range(len(yticks)))\n",
    "ax.set_yticklabels(yticks)  \n",
    "\n",
    "ax.set_xticks(range(num_clients))\n",
    "\n",
    "ax.yaxis.set_tick_params(labelsize=12)\n",
    "ax.xaxis.set_tick_params(labelsize=12)\n",
    "plt.savefig(os.path.join(client_data_dir, 'client_data_amount.png'), dpi=300, bbox_inches='tight')\n",
    "plt.show()"
   ]
  },
  {
   "cell_type": "code",
   "execution_count": null,
   "metadata": {},
   "outputs": [],
   "source": []
  }
 ],
 "metadata": {
  "kernelspec": {
   "display_name": "Python 3 (ipykernel)",
   "language": "python",
   "name": "python3"
  },
  "language_info": {
   "codemirror_mode": {
    "name": "ipython",
    "version": 3
   },
   "file_extension": ".py",
   "mimetype": "text/x-python",
   "name": "python",
   "nbconvert_exporter": "python",
   "pygments_lexer": "ipython3",
   "version": "3.9.0"
  }
 },
 "nbformat": 4,
 "nbformat_minor": 4
}
